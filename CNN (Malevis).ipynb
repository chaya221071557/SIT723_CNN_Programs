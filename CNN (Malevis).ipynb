import tensorflow as tf
from tensorflow.keras.models import Sequential
from tensorflow.keras.layers import Conv2D, MaxPooling2D, Flatten, Dense, Dropout, BatchNormalization
from tensorflow.keras.preprocessing.image import ImageDataGenerator
import os
#importing libraries
os.environ['KMP_DUPLICATE_LIB_OK']='True'
#Sets an environment variable to prevent duplication issues
train_dir = 'D:\\malware\\malevis_train_val_300x300\\malevis_train_val_300x300\\train'
val_dir = 'D:\\malware\\malevis_train_val_300x300\\malevis_train_val_300x300\\val'
# paths of train and validation directory of the Malevis dataset

img_height, img_width = 300, 300  # image size
batch_size = 32
train_datagen = ImageDataGenerator(
    rescale=1./255,
    rotation_range=20,
    width_shift_range=0.2,
    height_shift_range=0.2,
    shear_range=0.1,
    zoom_range=0.2,
    horizontal_flip=True,
    fill_mode='nearest'
)
#data processing starts from here (pre-processing)

val_datagen = ImageDataGenerator(rescale=1./255)

train_generator = train_datagen.flow_from_directory(
    train_dir,
    target_size=(img_height, img_width),
    batch_size=batch_size,
    class_mode='categorical'
)
#data processing (pre-processing)
validation_generator = val_datagen.flow_from_directory(
    val_dir,
    target_size=(img_height, img_width),
    batch_size=batch_size,
    class_mode='categorical'
)
# pre-processing ends here (pre-processing)

model = Sequential([
    Conv2D(32, (3, 3), activation='relu', input_shape=(img_height, img_width, 3)),
    MaxPooling2D(2, 2),
    Conv2D(64, (3, 3), activation='relu'),
    MaxPooling2D(2, 2),
    Conv2D(128, (3, 3), activation='relu'),
    MaxPooling2D(2, 2),
    Flatten(),
    Dense(512, activation='relu'),
    Dropout(0.5),
    Dense(26, activation='softmax')  # Output layer for 26 classes
])
#CNN model
#model.compile(optimizer='adam', loss='categorical_crossentropy', metrics=['accuracy'])
import tensorflow as tf
from tensorflow.keras.metrics import Precision, Recall
from tensorflow.keras.optimizers import SGD

# Create an instance of the SGD optimizer with specific learning rate and momentum
opt = SGD(learning_rate=0.01, momentum=0.9)

# Compile the model with the SGD optimizer
model.compile(optimizer=opt, loss='categorical_crossentropy', metrics=['accuracy',Precision(name='precision'), 
        Recall(name='recall')])

#compiling model in the above code

history = model.fit(
    train_generator,
    steps_per_epoch=train_generator.samples // batch_size,
    epochs=25,  # Adjust based on your specific needs and early stopping criteria
    validation_data=validation_generator,
    validation_steps=validation_generator.samples // batch_size
)
#Training the model


accuracy = model.evaluate(validation_generator)
print(f'Accuracy: {accuracy[1] * 100:.2f}%')
print(f'Precision: {accuracy[2] * 100:.2f}%')
print(f'Recall: {accuracy[3] * 100:.2f}%')
f1_score = 2 * (accuracy[2] * accuracy[3]) / (accuracy[2] + accuracy[3] + tf.keras.backend.epsilon())
print(f'F1 Score: {f1_score:.2f}')
#Evaluating the model on the validation data.
model.save('multiclass_classification_model.h5')
#Saving the model.
import matplotlib.pyplot as plt

# Plot training & validation accuracy values
plt.figure(figsize=(10, 4))
plt.subplot(1, 2, 1)
plt.plot(history.history['accuracy'])
plt.plot(history.history['val_accuracy'])
plt.title('Model accuracy')
plt.ylabel('Accuracy')
plt.xlabel('Epoch')
plt.legend(['Train', 'Validation'], loc='upper left')

# Plot training & validation loss values
plt.subplot(1, 2, 2)
plt.plot(history.history['loss'])
plt.plot(history.history['val_loss'])
plt.title('Model loss')
plt.ylabel('Loss')
plt.xlabel('Epoch')
plt.legend(['Train', 'Validation'], loc='upper left')
plt.show()

